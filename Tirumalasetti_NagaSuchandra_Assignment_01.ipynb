{
  "cells": [
    {
      "cell_type": "markdown",
      "metadata": {
        "id": "view-in-github"
      },
      "source": [
        "<a href=\"https://colab.research.google.com/github/unt-iialab/INFO5731_Spring2020/blob/master/Assignments/INFO5731_Assignment_One.ipynb\" target=\"_parent\"><img src=\"https://colab.research.google.com/assets/colab-badge.svg\" alt=\"Open In Colab\"/></a>"
      ]
    },
    {
      "cell_type": "markdown",
      "metadata": {
        "id": "Ryk8D1Q4Wsrp"
      },
      "source": [
        "# **INFO5731 Assignment One**"
      ]
    },
    {
      "cell_type": "markdown",
      "source": [
        "This assignment includes range of programming tasks and data analysis exercises, aiming to enhance your Python skills and proficiency in string manipulation, numerical computations, and data science. Follow the instructions carefully and design well-structured Python programs to address each question.\n",
        "\n",
        "Late Submission will have a penalty of 10% reduction for each day after the deadline."
      ],
      "metadata": {
        "id": "qcP6re2g5A5r"
      }
    },
    {
      "cell_type": "markdown",
      "metadata": {
        "id": "JkzR8cFAyGik"
      },
      "source": [
        "# Question 1 (10 points).\n",
        "\n",
        "The formula that describes the volume V of a hemisphere with radius r is the following:\n",
        "\n",
        "$ V=\\frac{2}{3}\\ast\\ \\pi\\ast\\ r^3 $\n",
        "\n",
        "Write a program to calculate the value of V when r is in the range of even numbers from 1-20. Output the result in the following format:\n",
        "\n",
        "\tr\tV\n",
        "\t2\t…\n",
        "\t4\t…\n",
        "\t6\t…\n",
        "\t.\n",
        "\t.\n",
        "\t.\n",
        "\t20\t…\n"
      ]
    },
    {
      "cell_type": "code",
      "execution_count": 2,
      "metadata": {
        "id": "jDyTKYs-yGit",
        "colab": {
          "base_uri": "https://localhost:8080/"
        },
        "outputId": "066ddf5d-1847-4e06-f4d0-97358b1e0379"
      },
      "outputs": [
        {
          "output_type": "stream",
          "name": "stdout",
          "text": [
            "r    V\n",
            "2    16.76\n",
            "4    134.04\n",
            "6    452.39\n",
            "8    1072.33\n",
            "10   2094.40\n",
            "12   3619.11\n",
            "14   5747.02\n",
            "16   8578.64\n",
            "18   12214.51\n",
            "20   16755.16\n"
          ]
        }
      ],
      "source": [
        "import math # we are importing math module to use pi value\n",
        "\n",
        "def cal_volume(rads): #we are defining a function cal_volume for calculating volume\n",
        "    return (2/3) * math.pi * rads**3\n",
        "\n",
        "print(\"r    V\")\n",
        "for r in range(2, 21, 2): #using for loop we are generating even numbers from 1 to 20\n",
        "    V = cal_volume(r)\n",
        "    print(f\"{r:<4} {V:.2f}\")\n",
        "\n",
        "\n"
      ]
    },
    {
      "cell_type": "markdown",
      "metadata": {
        "id": "90_NR8c5XGWc"
      },
      "source": [
        "# Question 2 (20 points)\n",
        "\n",
        "(a) Write a Python program to generate a sequence of 12 random numbers falling within the range of 50 to 150.\n",
        "\n",
        "(b) Arrange the generated numbers in ascending order. Display the sorted list.\n",
        "\n",
        "(c) Extend the program to arrange the numbers in descending order as well. Present the sorted list accordingly.\n",
        "\n",
        "(d) Compute and output the average of the entire group of generated numbers.\n",
        "\n",
        "(e) Enhance the program to calculate and display the average of the first 6 numbers from both the ascending and descending sorted lists."
      ]
    },
    {
      "cell_type": "code",
      "execution_count": 21,
      "metadata": {
        "id": "5QX6bJjGWXY9",
        "colab": {
          "base_uri": "https://localhost:8080/"
        },
        "outputId": "673d1889-9479-4fde-f447-09645f09d9e5"
      },
      "outputs": [
        {
          "output_type": "stream",
          "name": "stdout",
          "text": [
            "[94, 52, 135, 95, 90, 56, 63, 115, 54, 72, 91, 140]\n",
            "Ascending order: [52, 54, 56, 63, 72, 90, 91, 94, 95, 115, 135, 140]\n",
            "Descending order: [140, 135, 115, 95, 94, 91, 90, 72, 63, 56, 54, 52]\n",
            "Average of the entire group: 88.08333333333333\n",
            "Average of the first 6 numbers in ascending order: 64.5\n",
            "Average of the first 6 numbers in descending order: 111.66666666666667\n"
          ]
        }
      ],
      "source": [
        "import random as r\n",
        "\n",
        "# (a)Using a list comprehension we are Generating a sequence of 12 random numbers falling within the range of 50 to 150\n",
        "rand_num = [r.randint(50, 150) for _ in range(12)]\n",
        "print(rand_num)\n",
        "# using sorted() we are sorting in ascending order\n",
        "ascending = sorted(rand_num)\n",
        "print(\"Ascending order:\", ascending)\n",
        "\n",
        "# for generating  numbers in descending order we set reverse paramenter as true\n",
        "descending = sorted(rand_num, reverse=True)\n",
        "print(\"Descending order:\", descending)\n",
        "\n",
        "#average of the entire group of generated numbers\n",
        "avg = sum(rand_num) / len(rand_num)\n",
        "print(\"Average of the entire group:\", avg)\n",
        "\n",
        "# average of the first 6 numbers from both ascending and descending sorted lists\n",
        "average_asc = sum(ascending[:6]) / 6\n",
        "average_desc = sum(descending[:6]) / 6\n",
        "print(\"Average of the first 6 numbers in ascending order:\", average_asc)\n",
        "print(\"Average of the first 6 numbers in descending order:\", average_desc)\n",
        "\n",
        "\n",
        "\n",
        "\n",
        "\n"
      ]
    },
    {
      "cell_type": "markdown",
      "metadata": {
        "id": "1F_PZdH9Sh49"
      },
      "source": [
        "# Question 3 (20 points).\n",
        "\n",
        "Create a Python program that encompasses various string manipulation task:\n",
        "\n",
        "(a) Prompt the user to input two sentences.\n",
        "\n",
        "(b) Transform each sentence into a list, where each element corresponds to a word in the sentence. For example, if the sentences are \"Hello, how are you doing today?\" and \"This is an example sentence for the program!\"\n",
        "\n",
        "The program should output:\n",
        "['Hello', ',', 'how', 'are', 'you', 'doing', 'today', '?', 'This', 'is', 'an', 'example', 'sentence', 'for', 'the', 'program', '!']\n",
        "\n",
        "(c) Compare the two sentences. Print out a list of words that occur in both sentences.\n",
        "\n",
        "(d) Remove any punctuation from the sentence and print the sanitized sentences. It should remove at least the following characters, but it can remove more: period(“.”), comma (“,”), semicolon (“;”), and colon (“:”).\n",
        "\n",
        "(e) Count the number of vowels in each of the sentences. Print out each vowel and the occurrences  in the each of the two sentences separately, such as:\n",
        "\n",
        "Sentence1: a:2, e:2, i:0, etc.\n",
        "Sentence2: a:1, e:2, i:2, etc.\n",
        "\n",
        "Design a well-structured Python program to execute these tasks efficiently."
      ]
    },
    {
      "cell_type": "code",
      "execution_count": 29,
      "metadata": {
        "id": "Y0oOSlsOS0cq",
        "colab": {
          "base_uri": "https://localhost:8080/"
        },
        "outputId": "f56b56c8-90da-49b5-d258-59782a096d8b"
      },
      "outputs": [
        {
          "output_type": "stream",
          "name": "stdout",
          "text": [
            "Enter first sentence: Hello, how are you doing today?\n",
            "Enter second sentence: This is an example sentence for the program!\n",
            "Transformed sentences to words:\n",
            "['Hello', 'how', 'are', 'you', 'doing', 'today', 'This', 'is', 'an', 'example', 'sentence', 'for', 'the', 'program']\n",
            "Common words: []\n",
            "Sentences with no punctuation\n",
            "Sentence1: Hello how are you doing today\n",
            "Sentence2: This is an example sentence for the program\n",
            "Vowel count:\n",
            "Sentence1: a:2, e:2, i:1, o:5, u:1\n",
            "Sentence2: a:3, e:6, i:2, o:2, u:0\n"
          ]
        }
      ],
      "source": [
        "import string   #importing string module\n",
        "\n",
        "def input_sentences():  # defining a function to prompt the user to input the sentences\n",
        "    sent1 = input(\"Enter first sentence: \")\n",
        "    sent2 = input(\"Enter second sentence: \")\n",
        "    return sent1, sent2\n",
        "\n",
        "def transform_word_list(stce):\n",
        "    return stce.translate(str.maketrans('', '', string.punctuation)).split()#removes punctuation and split the sentence into list\n",
        "\n",
        "def find_common_wrd(sentence1_list, sentence2_list):\n",
        "    return list(set(sentence1_list) & set(sentence2_list))\n",
        "\n",
        "def remove_punctuation(sentence):\n",
        "    return sentence.translate(str.maketrans('', '', string.punctuation))\n",
        "\n",
        "def count_vowels(sentence):\n",
        "    vowels = 'aeiou'\n",
        "    vowel_count = {vowel: 0 for vowel in vowels}\n",
        "    for char in sentence:\n",
        "        if char.lower() in vowels:# returns vowel count as a dictionary\n",
        "            vowel_count[char.lower()] += 1\n",
        "    return vowel_count\n",
        "\n",
        "def print_vowel_count(sentence1, sentence2):\n",
        "    vowel_count1 = count_vowels(sentence1)\n",
        "    vowel_count2 = count_vowels(sentence2)\n",
        "    print(\"Sentence1:\", \", \".join([f\"{v}:{c}\" for v, c in vowel_count1.items()]))\n",
        "    print(\"Sentence2:\", \", \".join([f\"{v}:{c}\" for v, c in vowel_count2.items()]))  # takes 2 sentences and stores thec ount vowel_count and prints the vowel counts\n",
        "\n",
        "def main():\n",
        "    sentence1, sentence2 = input_sentences()\n",
        "\n",
        "    sent1_list = transform_word_list(sentence1)\n",
        "    sent2_list = transform_word_list(sentence2)\n",
        "\n",
        "    print(\"Transformed sentences to words:\")\n",
        "    print(sent1_list + sent2_list)\n",
        "\n",
        "    common_words = find_common_wrd(sent1_list, sent2_list)\n",
        "    print(\"Common words:\", common_words)\n",
        "\n",
        "    sentence1_no_punctuation = remove_punctuation(sentence1)\n",
        "    sentence2_no_punctuation = remove_punctuation(sentence2)\n",
        "    print(\"Sentences with no punctuation\")\n",
        "    print(\"Sentence1:\", sentence1_no_punctuation)\n",
        "    print(\"Sentence2:\", sentence2_no_punctuation)\n",
        "\n",
        "    print(\"Vowel count:\")\n",
        "    print_vowel_count(sentence1, sentence2)\n",
        "\n",
        "if __name__ == \"__main__\":\n",
        "    main()   # calls the function to execute the program\n",
        "\n",
        "\n",
        "\n"
      ]
    },
    {
      "cell_type": "markdown",
      "source": [
        "# Question 4 (20 Points)"
      ],
      "metadata": {
        "id": "OP4-5qxAtInv"
      }
    },
    {
      "cell_type": "markdown",
      "source": [
        "Design and implement a simple command-line calculator program. The program should handle both integers and floating-point numbers.\n",
        "\n",
        "(a) Write program that takes a mathematical expression as input and evaluates it. The program should support addition, subtraction, multiplication, and division.\n",
        "\n",
        "(b) Extend the calculator to handle parentheses in mathematical expressions. Implement the necessary logic to evaluate expressions with nested parentheses.\n",
        "\n",
        "(c) Enhance your calculator to include additional mathematical operations such as exponentiation, square root, and modulus.\n",
        "\n",
        "(d) Implement error handling in the calculator program. Handle cases such as division by zero and invalid input expressions. Provide meaningful error messages.\n",
        "\n",
        "(e) Implement a command to exit the calculator."
      ],
      "metadata": {
        "id": "uzN4_hDptK9U"
      }
    },
    {
      "cell_type": "code",
      "source": [
        "import re  #importing re module to perform regular expressions which contains special symbols\n",
        "import math\n",
        "\n",
        "def eval_exp(exp): # we are defining a function for evaluating mathematical expressions and we are givng  two exception errors\n",
        "    try:\n",
        "        return eval(exp)\n",
        "    except ZeroDivisionError:\n",
        "        return \"Error: Division by zero\"\n",
        "    except Exception as e:\n",
        "        return f\"Error: {str(e)}\"\n",
        "\n",
        "def handle_exponentiation(expression):\n",
        "    return re.sub(r'(\\d+(\\.\\d+)?)\\^(\\d+(\\.\\d+)?)', lambda x: str(float(x.group(1)) ** float(x.group(3))), expression)\n",
        "\n",
        "def handle_square_root(expression):\n",
        "    return re.sub(r'\\sqrt\\((\\d+(\\.\\d+)?)\\)', lambda x: str(math.sqrt(float(x.group(1)))), expression)\n",
        "\n",
        "def handle_modulus(expression):\n",
        "    return re.sub(r'(\\d+(\\.\\d+)?)\\s?%\\s?(\\d+(\\.\\d+)?)', lambda x: str(float(x.group(1)) % float(x.group(3))), expression)\n",
        "\n",
        "def calculate(expression):\n",
        "    expression = handle_exponentiation(expression)\n",
        "    expression = handle_square_root(expression)\n",
        "    expression = handle_modulus(expression)\n",
        "    return eval_exp(expression)\n",
        "\n",
        "def main():\n",
        "    print(\"Simple Command-Line Calculator\")\n",
        "    print(\"Enter 'exit' to quit.\")\n",
        "    while True:\n",
        "        expression = input(\"Enter expression: \")\n",
        "        if expression.lower() == 'exit':\n",
        "            print(\"Exiting calculator.\")\n",
        "            break\n",
        "        result = calculate(expression)\n",
        "        print(\"Result:\", result)\n",
        "\n",
        "if __name__ == \"__main__\":\n",
        "    main()\n",
        "\n"
      ],
      "metadata": {
        "id": "8nQnVxjJuYtu",
        "colab": {
          "base_uri": "https://localhost:8080/"
        },
        "outputId": "e2b143b8-51cd-4d63-bb95-e4df640d0f64"
      },
      "execution_count": 35,
      "outputs": [
        {
          "output_type": "stream",
          "name": "stdout",
          "text": [
            "Simple Command-Line Calculator\n",
            "Enter 'exit' to quit.\n",
            "Enter expression: 2+3\n",
            "Result: 5\n",
            "Enter expression: 2/0\n",
            "Result: Error: Division by zero\n",
            "Enter expression: exit\n",
            "Exiting calculator.\n"
          ]
        }
      ]
    },
    {
      "cell_type": "markdown",
      "metadata": {
        "id": "z3tBE7E-Xn5X"
      },
      "source": [
        "# Question 5 (30 points).\n",
        "\n",
        "In the field of Data Science, data is often formatted as a comma-delimited (CSV) file, where each line in a file corresponds to a field's value. Refer to Chapter 9 (p. 106) for more information on comma-delimited files.\n",
        "\n",
        "To answer this question, you will need to download the file [Assignment1_denton_housing.csv](https://raw.githubusercontent.com/unt-iialab/info5731-spring2022/main/assignments/Assignment1_denton_housing.csv) included with this assignment. The file contains statistics about housing in the city of Denton from 2008 to 2014. Write a program to implement the following questions.\n",
        "\n",
        "(a) (5 pts) Calculate the difference in the number of Occupied Housing Units from year to year and print it. The difference must be calculated for the consecutive years such as 2008-2009, 2009-2010 etc. Finally, print the values in the ascending order.\n",
        "\n",
        "(b) (5 pts) For all the years, calculate the percentage of housing units which are vacant an occupied. Print the results in the following format:\n",
        "\n",
        "Year Vacant Housing Units Occupied Housing Units\n",
        "\n",
        "    2008  30%   70%                          \n",
        "\t2009 ----- -----\n",
        "\t2010 ----- -----\n",
        "    2011 ----- -----\n",
        "\t2012 ----- -----\n",
        "    2013 ----- -----\n",
        "\t2014 ----- -----\n",
        "  \n",
        "  \n",
        "\n",
        "(c) (10 pts) Calculate and print the valued and years in which the highest number of housing units were vacant and occupied. Print the results in the following format:  \n",
        "\n",
        "                              Year\tValue\n",
        "\tVacant Housing Units\t  -----   -----\n",
        "\tOccupied Housing Units\t-----   -----\n",
        "\n",
        "(d) (10 pts) Calculate the harmonic mean of the total housing units and print it out. You can find the information about harmonic mean here: https://ncalculators.com/statistics/harmonic-mean-calculator.htm"
      ]
    },
    {
      "cell_type": "code",
      "execution_count": 20,
      "metadata": {
        "id": "lqGYuHBhcsRH",
        "colab": {
          "base_uri": "https://localhost:8080/"
        },
        "outputId": "042797ba-b038-477e-899c-94ffe04f5380"
      },
      "outputs": [
        {
          "output_type": "stream",
          "name": "stdout",
          "text": [
            "(a) Difference in the number of Occupied Housing Units from year to year:\n",
            "    year  difference\n",
            "20  2008       795.0\n",
            "17  2009     -5091.0\n",
            "14  2010       303.0\n",
            "11  2011     -1404.0\n",
            "8   2012     -1565.0\n",
            "5   2013     -2622.0\n",
            "2   2014         NaN\n",
            "\n",
            "(b) Percentage of housing units which are vacant and occupied for all years:\n",
            "Year   Vacant Housing Units   Occupied Housing Units\n",
            "2008  3.7% 30.6%\n",
            "2009  3.1% 31.0%\n",
            "2010  2.8% 31.3%\n",
            "2011  3.2% 31.0%\n",
            "2012  2.3% 31.6%\n",
            "2013  3.0% 31.1%\n",
            "2014  1.9% 31.8%\n",
            "(c) Years with the highest number of housing units:\n",
            "                       Year    Value\n",
            "Vacant Housing Units   2008    4483\n",
            "Occupied Housing Units 2014  46295\n",
            "\n",
            "(d) Harmonic mean of the total housing units:\n",
            "Harmonic Mean: 130257.98\n"
          ]
        }
      ],
      "source": [
        "import pandas as pd\n",
        "\n",
        "#Reading the CSV file\n",
        "file_path = \"Assignment1_denton_housing.csv\"\n",
        "data = pd.read_csv(file_path)\n",
        "\n",
        "# Calculating the difference using diff()\n",
        "occupied_housing_units = data[data['title_field'] == 'Occupied Housing Units'].copy()\n",
        "occupied_housing_units['difference'] = occupied_housing_units['value'].diff()\n",
        "\n",
        "# Printing the differences in ascending order of year ranges\n",
        "print(\"(a) Difference in the number of Occupied Housing Units from year to year:\")\n",
        "print(occupied_housing_units[['year', 'difference']].sort_values(by='year'))\n",
        "\n",
        "#Calculate the total number of housing units for each year using groupby\n",
        "total_housing_units = data.groupby('year')['value'].sum()\n",
        "\n",
        "#Calculating the percentage of vacant and occupied housing units for each year:\n",
        "vacant_percentage = (data[data['title_field'] == 'Vacant Housing Units'].groupby('year')['value'].sum() / total_housing_units * 100).fillna('-')\n",
        "occupied_percentage = (data[data['title_field'] == 'Occupied Housing Units'].groupby('year')['value'].sum() / total_housing_units * 100).fillna('-')\n",
        "\n",
        "# printing the results of vacant housing units and occupied housing units\n",
        "print(\"\\n(b) Percentage of housing units which are vacant and occupied for all years:\")\n",
        "print(\"Year   Vacant Housing Units   Occupied Housing Units\")\n",
        "for year in total_housing_units.index:\n",
        "    print(f\"{year}{vacant_percentage.get(year, '-'):5.1f}%{occupied_percentage.get(year, '-'):5.1f}%\")\n",
        "\n",
        "#Filtering the DataFrame for vacant and occupied housing units\n",
        "vacant_housing_units_data = data[data['title_field'] == 'Vacant Housing Units']\n",
        "occupied_housing_units_data = data[data['title_field'] == 'Occupied Housing Units']\n",
        "\n",
        "#Finding the year and value with the highest number of vacant and occupied housing units using idxmax()\n",
        "max_vacant_row = vacant_housing_units_data.loc[vacant_housing_units_data['value'].idxmax()]\n",
        "max_occupied_row = occupied_housing_units_data.loc[occupied_housing_units_data['value'].idxmax()]\n",
        "\n",
        "print(\"(c) Years with the highest number of housing units:\")\n",
        "print(\"                       Year    Value\")\n",
        "print(f\"Vacant Housing Units   {max_vacant_row['year']}    {max_vacant_row['value']}\")\n",
        "print(f\"Occupied Housing Units {max_occupied_row['year']}  {max_occupied_row['value']}\")\n",
        "\n",
        "\n",
        "# Calculating the harmonic mean of the total housing units\n",
        "total_housing_units_array = total_housing_units.values\n",
        "harmonic_mean = len(total_housing_units_array) / sum(1 / total_housing_units_array)\n",
        "#Print the harmonic mean\n",
        "print(\"\\n(d) Harmonic mean of the total housing units:\")\n",
        "print(f\"Harmonic Mean: {harmonic_mean:.2f}\")\n",
        "\n",
        "\n",
        "\n",
        "\n",
        "\n"
      ]
    },
    {
      "cell_type": "markdown",
      "source": [
        "# Mandatory Question\n",
        "\n",
        "Provide your thoughts on the assignment. What did you find challenging, and what aspects did you enjoy? Your opinion on the provided time to complete the assignment. Share any suggestions for improvement. Your feedback will be valuable for enhancing the learning experience."
      ],
      "metadata": {
        "id": "q8BFCvWp32cf"
      }
    },
    {
      "cell_type": "code",
      "source": [
        "#Overall assignment was good but 5th question was challenging . This helped me to learn and improve."
      ],
      "metadata": {
        "id": "_e557s2w4BpK"
      },
      "execution_count": 21,
      "outputs": []
    }
  ],
  "metadata": {
    "colab": {
      "provenance": [],
      "toc_visible": true
    },
    "kernelspec": {
      "display_name": "Python 3 (ipykernel)",
      "language": "python",
      "name": "python3"
    },
    "language_info": {
      "codemirror_mode": {
        "name": "ipython",
        "version": 3
      },
      "file_extension": ".py",
      "mimetype": "text/x-python",
      "name": "python",
      "nbconvert_exporter": "python",
      "pygments_lexer": "ipython3",
      "version": "3.9.12"
    }
  },
  "nbformat": 4,
  "nbformat_minor": 0
}