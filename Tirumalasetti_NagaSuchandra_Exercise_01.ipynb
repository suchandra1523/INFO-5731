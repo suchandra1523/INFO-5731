{
  "cells": [
    {
      "cell_type": "markdown",
      "metadata": {
        "id": "view-in-github"
      },
      "source": [
        "<a href=\"https://colab.research.google.com/github/unt-iialab/INFO5731_Spring2020/blob/master/In_class_exercise/In_class_exercise_01.ipynb\" target=\"_parent\"><img src=\"https://colab.research.google.com/assets/colab-badge.svg\" alt=\"Open In Colab\"/></a>"
      ]
    },
    {
      "cell_type": "markdown",
      "metadata": {
        "id": "DymRJbxDBCnf"
      },
      "source": [
        "# **This first In-class-exercise cover a variety of fundamental concepts in Python and are designed to help individuals improve their coding skills and problem-solving abilities.**\n",
        "\n",
        "The submission is due on 01/31/2024 11:59 PM. This submission is worth 40 points in total.\n"
      ]
    },
    {
      "cell_type": "markdown",
      "source": [
        "(1) Write a Python program that  prompts the user to input the length and width of a rectangle, and then calculates and displays the area of the rectangle."
      ],
      "metadata": {
        "id": "FBKvD6O_TY6e"
      }
    },
    {
      "cell_type": "code",
      "source": [
        "#user enters the length and width of the rectangle\n",
        "length = float(input(\"Enter the length of the rectangle: \"))\n",
        "width = float(input(\"Enter the width of the rectangle: \"))\n",
        "\n",
        "# Calculating the area\n",
        "area = length * width\n",
        "\n",
        "# printing  the area\n",
        "print(\"The area of the rectangle is:\", area)\n"
      ],
      "metadata": {
        "id": "cikVKDXdTbzE",
        "colab": {
          "base_uri": "https://localhost:8080/"
        },
        "outputId": "5f5e1905-9b8a-4caf-93f2-fb4a28cdc4dd"
      },
      "execution_count": null,
      "outputs": [
        {
          "output_type": "stream",
          "name": "stdout",
          "text": [
            "Enter the length of the rectangle: 1247\n",
            "Enter the width of the rectangle: 1156\n",
            "The area of the rectangle is: 1441532.0\n"
          ]
        }
      ]
    },
    {
      "cell_type": "markdown",
      "source": [
        "(2) Create a Python program that interactively takes two numerical inputs from the user and swaps their values without utilizing an extra variable."
      ],
      "metadata": {
        "id": "E9RqrlwdTfvl"
      }
    },
    {
      "cell_type": "code",
      "source": [
        "#user enters the numbers\n",
        "num1 = float(input(\"Enter the first number: \"))\n",
        "num2 = float(input(\"Enter the second number: \"))\n",
        "\n",
        "# Swapping the values\n",
        "num1, num2 = num2, num1\n",
        "\n",
        "# swapped values\n",
        "print(\"After swapping:\")\n",
        "print(\"First number:\", num1)\n",
        "print(\"Second number:\", num2)\n"
      ],
      "metadata": {
        "id": "4XvRknixTh1g",
        "colab": {
          "base_uri": "https://localhost:8080/"
        },
        "outputId": "6f039fe8-2e89-4678-85f7-5332cf495eeb"
      },
      "execution_count": null,
      "outputs": [
        {
          "output_type": "stream",
          "name": "stdout",
          "text": [
            "Enter the first number: 31\n",
            "Enter the second number: 13\n",
            "After swapping:\n",
            "First number: 13.0\n",
            "Second number: 31.0\n"
          ]
        }
      ]
    },
    {
      "cell_type": "markdown",
      "metadata": {
        "id": "03jb4GZsBkBS"
      },
      "source": [
        "(3) Write a Python script to determine and print the length of a user-input string."
      ]
    },
    {
      "cell_type": "code",
      "execution_count": null,
      "metadata": {
        "id": "YaGLbSHHB8Ej",
        "colab": {
          "base_uri": "https://localhost:8080/"
        },
        "outputId": "ded07c06-00cb-4e0f-fa6c-655b3320b2bd"
      },
      "outputs": [
        {
          "output_type": "stream",
          "name": "stdout",
          "text": [
            "Enter a String: suchandra\n",
            "Length of the string is: 9\n"
          ]
        }
      ],
      "source": [
        "\n",
        "# giving input from the user\n",
        "s = input(\"Enter a String: \")\n",
        "\n",
        "# Calculating the length of the string\n",
        "length = len(s)\n",
        "\n",
        "# Printing the length\n",
        "print(\"Length of the string is:\", length)\n"
      ]
    },
    {
      "cell_type": "markdown",
      "metadata": {
        "id": "jJDe71iLB616"
      },
      "source": [
        "(4) Construct a Python program that counts and displays the occurrences of each character in a given string.\n",
        "\n",
        "Sample String: 'openai.ai',\n",
        "\n",
        "Expected Result: {'a': 2, 'i': 2, '.': 1, 'o': 1, 'p': 1, 'e': 1, 'n': 1}"
      ]
    },
    {
      "cell_type": "code",
      "execution_count": null,
      "metadata": {
        "id": "MtKskTzbCLaU",
        "colab": {
          "base_uri": "https://localhost:8080/"
        },
        "outputId": "f647e15f-9d9c-42b4-c7a8-8b8024d46399"
      },
      "outputs": [
        {
          "output_type": "stream",
          "name": "stdout",
          "text": [
            "Occurrences of each character:\n",
            "{'c': 1, 'o': 2, 'm': 1, 'p': 1, 'u': 1, 't': 2, 'a': 2, 'i': 1, 'n': 1, 'l': 1}\n"
          ]
        }
      ],
      "source": [
        "#  sample string\n",
        "sample = 'computational'\n",
        "\n",
        "#  dictionary will hold the characters as keys and their respective counts as values.\n",
        "char_count = {}\n",
        "\n",
        "# for Counting the occurrences of each character in a  string we are using a for loop\n",
        "for c in sample:\n",
        "\n",
        "    char_count[c] = char_count.get(c, 0)+1\n",
        "\n",
        "# Display the character counts\n",
        "print(\"Occurrences of each character:\")\n",
        "print(char_count)\n",
        "\n"
      ]
    },
    {
      "cell_type": "markdown",
      "metadata": {
        "id": "55W9AMdXCSpV"
      },
      "source": [
        "(5) Design a Python code to calculate the sum of all elements in a user-provided list."
      ]
    },
    {
      "cell_type": "code",
      "execution_count": null,
      "metadata": {
        "id": "I57NXsauCec2",
        "colab": {
          "base_uri": "https://localhost:8080/"
        },
        "outputId": "6fb0cc71-49d7-4817-a7fc-f814b1383ee7"
      },
      "outputs": [
        {
          "output_type": "stream",
          "name": "stdout",
          "text": [
            "Enter the list of numbers: 10 20 25 33 45\n",
            "Sum of all elements : 133\n"
          ]
        }
      ],
      "source": [
        "\n",
        "# user enters the list of numbers and using split function we are spliiting the list into substrings\n",
        "l1 = input(\"Enter the list of numbers: \").split()\n",
        "\n",
        "# Converting the  strings to integers to calculate the sum using list comprehension\n",
        "l1 = [int(n) for n in l1]\n",
        "\n",
        "# Calculating the sum of all elements\n",
        "list_sum = sum(l1)\n",
        "\n",
        "print(\"Sum of all elements :\", list_sum)\n"
      ]
    },
    {
      "cell_type": "markdown",
      "metadata": {
        "id": "4ulBZ6yhCi9F"
      },
      "source": [
        "(6) Write a Python program that modifies a given string by replacing all occurrences of its first character with '$', excluding the first character itself.\n",
        "\n",
        "\n",
        "Sample String : 'restart‘,\n",
        "\n",
        "Expected Result : 'resta\\$t'"
      ]
    },
    {
      "cell_type": "code",
      "execution_count": null,
      "metadata": {
        "id": "Fj0XhwbBCw2o",
        "colab": {
          "base_uri": "https://localhost:8080/"
        },
        "outputId": "e4b6ba0d-4ef6-4916-9b77-cd4b282ca8c8"
      },
      "outputs": [
        {
          "output_type": "stream",
          "name": "stdout",
          "text": [
            "Modified String: resta$t\n"
          ]
        }
      ],
      "source": [
        "# sample string\n",
        "sample = 'restart'\n",
        "\n",
        "# using indexing we are getting  first character of the string\n",
        "first_char = sample[0]\n",
        "\n",
        "# using the first character and using slicing we are replacing the occurences using replace\n",
        "modified_string = first_char + sample[1:].replace(first_char, '$')\n",
        "\n",
        "#  modified string\n",
        "print(\"Modified String:\", modified_string)\n",
        "\n"
      ]
    },
    {
      "cell_type": "markdown",
      "source": [
        "(7) Write a Python program using a while loop to compute the factorial of a user-supplied number."
      ],
      "metadata": {
        "id": "qVXA3q7ET5JI"
      }
    },
    {
      "cell_type": "code",
      "source": [
        "# Defining a function for finding a  factorial\n",
        "def factorial(n):\n",
        "    fact = 1\n",
        "    count = 1\n",
        "    while count <= n:\n",
        "        fact *= count\n",
        "        count += 1\n",
        "    return fact\n",
        "\n",
        "# Taking input from the user\n",
        "number = int(input(\"Enter a number to compute its factorial: \"))\n",
        "\n",
        "# Calling  the function to find the factorial\n",
        "result = factorial(number)\n",
        "\n",
        "print(\"Factorial of\", number, \"is:\", result)\n"
      ],
      "metadata": {
        "id": "Lbt7R6UkT7BA",
        "colab": {
          "base_uri": "https://localhost:8080/"
        },
        "outputId": "c86d42f0-b9e8-4739-9695-8e606f42ea1d"
      },
      "execution_count": null,
      "outputs": [
        {
          "output_type": "stream",
          "name": "stdout",
          "text": [
            "Enter a number to compute its factorial: 7\n",
            "Factorial of 7 is: 5040\n"
          ]
        }
      ]
    },
    {
      "cell_type": "markdown",
      "source": [
        "(8) Create a program that accepts a list of numbers as input and outputs a new list containing only the even numbers."
      ],
      "metadata": {
        "id": "6YfbzXMNT--R"
      }
    },
    {
      "cell_type": "code",
      "source": [
        "# entering list of numbers from the user\n",
        "num = input(\"Enter a list of numbers : \").split()\n",
        "\n",
        "# Converting input strings to integers and filtering even numbers using list comprehension\n",
        "even_numbers = [int(n) for n in num if int(n) % 2 == 0]\n",
        "\n",
        "# Output\n",
        "print(\"List of even numbers:\", even_numbers)\n"
      ],
      "metadata": {
        "id": "54q7wMQPUAKu",
        "colab": {
          "base_uri": "https://localhost:8080/"
        },
        "outputId": "45ba4035-51ab-4b46-94de-2e00388276d7"
      },
      "execution_count": null,
      "outputs": [
        {
          "output_type": "stream",
          "name": "stdout",
          "text": [
            "Enter a list of numbers : 10 13 15 18 24 30 36 66\n",
            "List of even numbers: [10, 18, 24, 30, 36, 66]\n"
          ]
        }
      ]
    },
    {
      "cell_type": "markdown",
      "metadata": {
        "id": "_bIP7s1MCzue"
      },
      "source": [
        "\n",
        "(9) Design a Python function to check if a number is prime.\n"
      ]
    },
    {
      "cell_type": "code",
      "execution_count": null,
      "metadata": {
        "id": "w79QilHXD3Mg",
        "colab": {
          "base_uri": "https://localhost:8080/"
        },
        "outputId": "d0063052-bcf1-4fe8-cdfc-2c913b7fab0c"
      },
      "outputs": [
        {
          "output_type": "stream",
          "name": "stdout",
          "text": [
            "Enter a number: 23\n",
            "23 is prime\n"
          ]
        }
      ],
      "source": [
        "def prime(num): #we defined a function\"prime\"\n",
        "    if num <= 1:\n",
        "        return False\n",
        "    if num <= 3:\n",
        "        return True\n",
        "    if num % 2 == 0:\n",
        "        return False\n",
        "    for i in range(3, int(num**0.5) + 1, 2):\n",
        "        if num % i == 0:\n",
        "            return False\n",
        "    return True\n",
        "\n",
        "\n",
        "number = int(input(\"Enter a number: \"))# user enters the number\n",
        "if prime(number):# we are calling the function \"prime\"\n",
        "    print(number, \"is prime\")\n",
        "else:\n",
        "    print(number, \"is not prime\")\n",
        "\n"
      ]
    },
    {
      "cell_type": "markdown",
      "metadata": {
        "id": "xCa2bK9aD4Q3"
      },
      "source": [
        "(10) Write a Python program to concatenate following dictionaries to create a new one.\n",
        "\n",
        "Sample Dictionary : dic1={1:10, 2:20}, dic2={3:30, 4:40}, dic3={5:50,6:60},\n",
        "\n",
        "Expected Result : {1: 10, 2: 20, 3: 30, 4: 40, 5: 50, 6: 60}\n"
      ]
    },
    {
      "cell_type": "code",
      "execution_count": null,
      "metadata": {
        "id": "_z4aLqAbEET1",
        "colab": {
          "base_uri": "https://localhost:8080/"
        },
        "outputId": "7908d147-e9b3-4773-e686-68fad1dac3d6"
      },
      "outputs": [
        {
          "output_type": "stream",
          "name": "stdout",
          "text": [
            "Concatenated Dictionary: {1: 10, 2: 20, 3: 30, 4: 40, 5: 50, 6: 60}\n"
          ]
        }
      ],
      "source": [
        "# given sample dictionaries\n",
        "dic1 = {1: 10, 2: 20}\n",
        "dic2 = {3: 30, 4: 40}\n",
        "dic3 = {5: 50, 6: 60}\n",
        "\n",
        "# Initializing an empty dictionary to store the concatenated results\n",
        "result_dict = {}\n",
        "\n",
        "# Iterating through each dictionary using for loop and adding its key-value pairs\n",
        "for d in [dic1, dic2, dic3]:\n",
        "    result_dict.update(d)\n",
        "\n",
        "# Display the concatenated dictionary\n",
        "print(\"Concatenated Dictionary:\", result_dict)\n",
        "\n"
      ]
    },
    {
      "cell_type": "markdown",
      "source": [
        "(11) Design a Python function that takes a tuple of integers as input and returns the largest and smallest elements."
      ],
      "metadata": {
        "id": "bkyZ2xSZUOst"
      }
    },
    {
      "cell_type": "code",
      "source": [
        "def largest_smallest(n):\n",
        "    if not n:  # returns None if its empty tuple\n",
        "        return None, None\n",
        "\n",
        "    largest = smallest = n[0]  # Initializing  largest and smallest to the first element\n",
        "\n",
        "    for num in n[1:]:  # Iterating  over the remaining elements\n",
        "        if num > largest:\n",
        "            largest = num\n",
        "        elif num < smallest:\n",
        "            smallest = num\n",
        "\n",
        "    return largest, smallest\n",
        "\n",
        "input_numbers = input(\"Enter a tuple of integers separated by commas: \")\n",
        "try:\n",
        "    # Converting input string to tuple of integers\n",
        "    numbers = tuple(map(int, input_numbers.split(',')))\n",
        "except ValueError:\n",
        "    print(\"Invalid input. Please enter integers separated by commas.\")\n",
        "else:\n",
        "    #calling the function\n",
        "    largest, smallest = largest_smallest(numbers)\n",
        "    print(\"Largest element:\", largest)\n",
        "    print(\"Smallest element:\", smallest)\n",
        "\n",
        "\n"
      ],
      "metadata": {
        "id": "3FdLRBKOUQEd",
        "colab": {
          "base_uri": "https://localhost:8080/"
        },
        "outputId": "d6565f66-6a27-493f-abd2-88e093389ff9"
      },
      "execution_count": null,
      "outputs": [
        {
          "output_type": "stream",
          "name": "stdout",
          "text": [
            "Enter a tuple of integers separated by commas: 10,2,34,51,46\n",
            "Largest element: 51\n",
            "Smallest element: 2\n"
          ]
        }
      ]
    },
    {
      "cell_type": "markdown",
      "source": [
        "(12) Write a Python program that counts the frequency of each character in a given string and stores it in a dictionary."
      ],
      "metadata": {
        "id": "O0TVi3gKUTpp"
      }
    },
    {
      "cell_type": "code",
      "source": [
        "def count_frequency(strg):\n",
        "    # creating an empty dictionary to store character frequencies\n",
        "    char_frequency = {}\n",
        "\n",
        "    # Iterating through each character in a string using a for loop\n",
        "    for char in strg:\n",
        "        # Updating the count for the current character\n",
        "        char_frequency[char] = char_frequency.get(char, 0) + 1\n",
        "\n",
        "    return char_frequency # returns each character to the function call\n",
        "# calling the function\n",
        "input_string = input(\"Enter a string: \") # user enters the input\n",
        "frequency_dict = count_frequency(input_string)\n",
        "print(\"Character frequencies:\")\n",
        "for char, frequency in frequency_dict.items(): # .items is used in dictonaries for key value pairs\n",
        "    print(f\"'{char}': {frequency}\")\n"
      ],
      "metadata": {
        "id": "lAtfSfZXUU-h",
        "colab": {
          "base_uri": "https://localhost:8080/"
        },
        "outputId": "a1770a79-9b1e-46cb-8d44-3ed5299cbfe6"
      },
      "execution_count": null,
      "outputs": [
        {
          "output_type": "stream",
          "name": "stdout",
          "text": [
            "Enter a string: suchandra\n",
            "Character frequencies:\n",
            "'s': 1\n",
            "'u': 1\n",
            "'c': 1\n",
            "'h': 1\n",
            "'a': 2\n",
            "'n': 1\n",
            "'d': 1\n",
            "'r': 1\n"
          ]
        }
      ]
    },
    {
      "cell_type": "markdown",
      "metadata": {
        "id": "0v48Vqa7FrQh"
      },
      "source": [
        "(13) Implement a Python script to identify duplicate elements in a provided array of integers. Return -1 if there are no duplicates."
      ]
    },
    {
      "cell_type": "code",
      "execution_count": null,
      "metadata": {
        "id": "7WEmgq-DF2P1",
        "colab": {
          "base_uri": "https://localhost:8080/"
        },
        "outputId": "de79a339-fc3c-4de4-8693-02bf7f714c68"
      },
      "outputs": [
        {
          "output_type": "stream",
          "name": "stdout",
          "text": [
            "Enter integers separated by spaces: 10 20 \n",
            "No duplicates found.\n"
          ]
        }
      ],
      "source": [
        "def find_dup(ar):\n",
        "    seen = set()# creating two empty sets for storing duplicates and no duplicates\n",
        "    duplicates = set()\n",
        "\n",
        "    for n in ar: # for itering each element we are using a for loop\n",
        "        if n in seen: # if the  element is in seen set we are adding it to the duplicates\n",
        "            duplicates.add(n)\n",
        "        else: # else we will add to the seen set\n",
        "            seen.add(n)\n",
        "\n",
        "    if duplicates: # if duplicates were found return the list of duplicates\n",
        "        return sorted(duplicates)\n",
        "    else:\n",
        "        return -1 # returns if no duplicates were found\n",
        "\n",
        "# Test the function\n",
        "input_array = list(map(int, input(\"Enter integers separated by spaces: \").split()))\n",
        "duplicate = find_dup(input_array)\n",
        "\n",
        "if duplicate == -1:\n",
        "    print(\"No duplicates found.\")\n",
        "else:\n",
        "    print(\"Duplicate elements:\", duplicate)\n",
        "\n",
        "\n"
      ]
    },
    {
      "cell_type": "markdown",
      "metadata": {
        "id": "vD5PYLMuGga_"
      },
      "source": [
        "(14) Write a Python script to find the common elements between two lists."
      ]
    },
    {
      "cell_type": "code",
      "execution_count": null,
      "metadata": {
        "id": "t0D5kdJUGjjw",
        "colab": {
          "base_uri": "https://localhost:8080/"
        },
        "outputId": "54069e59-cbe1-4a4d-d508-3f936938ce30"
      },
      "outputs": [
        {
          "output_type": "stream",
          "name": "stdout",
          "text": [
            "Enter elements of the first list separated by spaces: 10 20 30\n",
            "Enter elements of the second list separated by spaces: 23 34 20\n",
            "Common elements: ['20']\n"
          ]
        }
      ],
      "source": [
        "def common_elements(list1, list2):\n",
        "    # using list comprehension to find the common elements\n",
        "    common_elements = [x for x in list1 if x in list2]\n",
        "    return common_elements\n",
        "\n",
        "# user enters the lists\n",
        "list1 = input(\"Enter elements of the first list separated by spaces: \").split()\n",
        "list2 = input(\"Enter elements of the second list separated by spaces: \").split()\n",
        "\n",
        "common_elements = common_elements(list1, list2)\n",
        "\n",
        "if common_elements:\n",
        "    print(\"Common elements:\", common_elements)\n",
        "else:\n",
        "    print(\"No common elements found.\")\n",
        "\n"
      ]
    },
    {
      "cell_type": "markdown",
      "metadata": {
        "id": "uHkd-y5VhVWC"
      },
      "source": [
        "(15) Write a Python program to randomly divide the students in this class into six groups for term projects, each group should have at least 4 students but no more than 6 students (including 6).\n",
        "\n",
        "Here is the students list:\n",
        "\n",
        "student_list_spring_2024=[rb0846,\n",
        "ac1964,\n",
        "hc0612,\n",
        "md0912,\n",
        "ad1198,\n",
        "md0894,\n",
        "md0825,\n",
        "vg0598,\n",
        "vg0433,\n",
        "mh1068,\n",
        "yj0173,\n",
        "pk0553,\n",
        "tk0411,\n",
        "srk0204,\n",
        "sk2922,\n",
        "sk2936,\n",
        "mk1302,\n",
        "mk1317,\n",
        "tk0412,\n",
        "vk0656,\n",
        "sm2985,\n",
        "mm2372,\n",
        "un0045,\n",
        "an0892,\n",
        "sn0913,\n",
        "gp0252,\n",
        "ap1484,\n",
        "mr1765,\n",
        "sr1385,\n",
        "sr1335,\n",
        "hs0665,\n",
        "ms2060,\n",
        "gt0217,\n",
        "nt0385,\n",
        "tv0186,\n",
        "sv1394,\n",
        "sv1752,\n",
        "sv1555,\n",
        "sy0594\n",
        "]\n"
      ]
    },
    {
      "cell_type": "code",
      "execution_count": null,
      "metadata": {
        "id": "3iGbmcOBhTwy",
        "colab": {
          "base_uri": "https://localhost:8080/"
        },
        "outputId": "85020794-6bf2-47d8-a198-b98019c51a59"
      },
      "outputs": [
        {
          "output_type": "stream",
          "name": "stdout",
          "text": [
            "Group 1: tk0411, sk2936, md0912, mm2372, yj0173, sr1385, md0825\n",
            "Group 2: tk0412, hc0612, sy0594, srk0204, nt0385, ac1964, sn0913\n",
            "Group 3: vk0656, tv0186, mk1317, md0894, gt0217, sv1752, an0892\n",
            "Group 4: vg0598, sk2922, vg0433, sv1394, ms2060, sv1555\n",
            "Group 5: hs0665, gp0252, pk0553, mr1765, sr1335, mh1068\n",
            "Group 6: sm2985, ap1484, rb0846, mk1302, un0045, ad1198\n"
          ]
        }
      ],
      "source": [
        "import random # we are importing the random module\n",
        "\n",
        "# given List of students\n",
        "student_list_spring_2024 = ['rb0846', 'ac1964', 'hc0612', 'md0912', 'ad1198', 'md0894', 'md0825', 'vg0598', 'vg0433', 'mh1068', 'yj0173', 'pk0553', 'tk0411', 'srk0204', 'sk2922', 'sk2936', 'mk1302', 'mk1317', 'tk0412', 'vk0656', 'sm2985', 'mm2372', 'un0045', 'an0892', 'sn0913', 'gp0252', 'ap1484', 'mr1765', 'sr1385', 'sr1335', 'hs0665', 'ms2060', 'gt0217', 'nt0385', 'tv0186', 'sv1394', 'sv1752', 'sv1555', 'sy0594']\n",
        "\n",
        "#we are using to Shuffle the student list randomly\n",
        "random.shuffle(student_list_spring_2024)\n",
        "\n",
        "#we are creatoing 6 empty lists for  Dividing the  students into groups\n",
        "grps = [[] for i in range(6)]\n",
        "current_group = 0\n",
        "\n",
        "for student in student_list_spring_2024:\n",
        "    grps[current_group].append(student)# using for loop we are assigning each student to current list\n",
        "    current_group = (current_group + 1) % 6\n",
        "\n",
        "# using enumarate we are generating group and joining using comma\n",
        "for i, group in enumerate(grps, start=1):\n",
        "    print(f\"Group {i}: {', '.join(group)}\")\n"
      ]
    },
    {
      "cell_type": "markdown",
      "metadata": {
        "id": "fmZ9vX20Qs3d"
      },
      "source": [
        "(16) Create a program that takes a positive integer 'n' as input and prints the count of even numbers from 1 to 'n'. Optimize the loop using the break statement."
      ]
    },
    {
      "cell_type": "code",
      "execution_count": null,
      "metadata": {
        "id": "W8Jw6sWMQs3d",
        "colab": {
          "base_uri": "https://localhost:8080/"
        },
        "outputId": "d3ecc973-a181-452d-828d-b6cc9d9b3e65"
      },
      "outputs": [
        {
          "output_type": "stream",
          "name": "stdout",
          "text": [
            "Enter a positive integer: 10000\n",
            "Count of even numbers from 1 to 10000 : 5000\n"
          ]
        }
      ],
      "source": [
        "\n",
        "def even_numbers(n):\n",
        "    count = 0\n",
        "    for i in range(1, n + 1):\n",
        "        if i % 2 == 0:\n",
        "            count += 1\n",
        "        elif i > n:  # if i is greater than n the loop breaks the statement and stops\n",
        "            break\n",
        "    return count\n",
        "\n",
        "# Take input from the user\n",
        "n = int(input(\"Enter a positive integer: \"))\n",
        "\n",
        "# Call the function and print the result\n",
        "print(\"Count of even numbers from 1 to\", n, \":\", even_numbers(n))"
      ]
    },
    {
      "cell_type": "markdown",
      "metadata": {
        "id": "hvq4APMhQs3d"
      },
      "source": [
        "(17) Develop a Python function called 'count_vowels' that takes a string as input and returns the count of vowels (both lowercase and uppercase) present in the string, ignoring spaces and non-alphabetic characters."
      ]
    },
    {
      "cell_type": "code",
      "execution_count": 6,
      "metadata": {
        "id": "ZnoxhSglQs3d",
        "colab": {
          "base_uri": "https://localhost:8080/"
        },
        "outputId": "4e96413e-1c12-4c5e-f744-311d07a51ac8"
      },
      "outputs": [
        {
          "output_type": "stream",
          "name": "stdout",
          "text": [
            "Enter a string: SuchAndra\n",
            "Number of vowels: 3\n"
          ]
        }
      ],
      "source": [
        "def count_vowels(strg):\n",
        "    vowels = \"aeiouAEIOU\"  # Defining a string containing all vowels, both lowercase and uppercase\n",
        "    count = 0\n",
        "\n",
        "    # Iterating through each character to check its a vowel or not\n",
        "    for char in strg:\n",
        "        if char in vowels and char.isalpha():\n",
        "            count += 1 # if the character is a vowel we increase the count by +1 and finally returns\n",
        "\n",
        "    return count\n",
        "\n",
        "\n",
        "input_string = input(\"Enter a string: \")\n",
        "print(\"Number of vowels:\", count_vowels(input_string))\n"
      ]
    },
    {
      "cell_type": "markdown",
      "source": [
        "(18) Create a custom exception named ValueTooSmallError in Python. Write a program that takes user input for an age, and if the entered age is less than 18, raise the ValueTooSmallError with an appropriate error message."
      ],
      "metadata": {
        "id": "55FWoSJPVVM6"
      }
    },
    {
      "cell_type": "code",
      "source": [
        "# We are Defining a custom exception class\n",
        "class ValueTooSmallError(Exception):\n",
        "    pass\n",
        "\n",
        "# we are creating a  function to take user input for age\n",
        "def get_age():\n",
        "    age = int(input(\"Enter your age: \"))\n",
        "    if age < 18:\n",
        "        raise ValueTooSmallError(\"Age should be 18 or greater.\")\n",
        "    else:\n",
        "        print(\"Age is :\", age)\n",
        "\n",
        "# call the function\n",
        "try:\n",
        "    get_age()\n",
        "except ValueTooSmallError as e:\n",
        "    print(\"ValueTooSmall:\", e)\n",
        "\n"
      ],
      "metadata": {
        "id": "hwtr1wZmVX5A",
        "colab": {
          "base_uri": "https://localhost:8080/"
        },
        "outputId": "be57e9b9-4941-44af-9774-0f1f3e1c8f0c"
      },
      "execution_count": 10,
      "outputs": [
        {
          "output_type": "stream",
          "name": "stdout",
          "text": [
            "Enter your age: 17\n",
            "ValueTooSmall: Age should be 18 or greater.\n"
          ]
        }
      ]
    },
    {
      "cell_type": "markdown",
      "source": [
        "(19) Develop a script that reverses a given string without using built-in reverse functions."
      ],
      "metadata": {
        "id": "Q9ecagcaVazW"
      }
    },
    {
      "cell_type": "code",
      "source": [
        "# user enters the string\n",
        "input_string = input(\"Enter a string: \")\n",
        "\n",
        "# we are creating  an empty string to store the reversed string\n",
        "reversed_string = \"\"\n",
        "\n",
        "# Iterating over the characters of the input string in reverse order\n",
        "for i in range(len(input_string)-1,-1,-1):\n",
        "    reversed_string += input_string[i]# we concatenate the string in reverse order\n",
        "\n",
        "# Printing the reversed string\n",
        "print(\"Reversed string:\", reversed_string)\n"
      ],
      "metadata": {
        "id": "gycgckoAVZjR",
        "colab": {
          "base_uri": "https://localhost:8080/"
        },
        "outputId": "50c33a2e-1a7a-49df-e0ec-6022fc4be0ea"
      },
      "execution_count": 13,
      "outputs": [
        {
          "output_type": "stream",
          "name": "stdout",
          "text": [
            "Enter a string: reversed\n",
            "Reversed string: desrever\n"
          ]
        }
      ]
    },
    {
      "cell_type": "markdown",
      "source": [
        "(20) Implement a Python script to generate a random password of a specified length."
      ],
      "metadata": {
        "id": "ZFG6RibifMLu"
      }
    },
    {
      "cell_type": "code",
      "source": [
        "import random\n",
        "import string\n",
        "\n",
        "# length of the password\n",
        "password_length = 12\n",
        "\n",
        "# from strings we Define the characters to choose for the password\n",
        "password_characters = string.ascii_letters + string.digits + string.punctuation\n",
        "\n",
        "# Generating the random password and joining using list comprehension\n",
        "random_password = ''.join(random.choice(password_characters) for i in range(password_length))\n",
        "\n",
        "\n",
        "print(\"Random Password:\", random_password)\n"
      ],
      "metadata": {
        "id": "BFVrkEi9fNiD",
        "colab": {
          "base_uri": "https://localhost:8080/"
        },
        "outputId": "3e35919d-9313-45a6-cd9a-be76efc7a072"
      },
      "execution_count": 20,
      "outputs": [
        {
          "output_type": "stream",
          "name": "stdout",
          "text": [
            "Random Password: oau0]ky~P7Y-\n"
          ]
        }
      ]
    },
    {
      "cell_type": "markdown",
      "source": [
        "# Try these questions:"
      ],
      "metadata": {
        "id": "6SmvS7nSfbj8"
      }
    },
    {
      "cell_type": "markdown",
      "source": [
        "(21) Define a base class called 'Vehicle' with attributes make and model. Create a derived class Car that inherits from Vehicle and has an additional attribute 'num_doors'. Demonstrate an example of creating an instance of the 'Car' class and accessing its attributes."
      ],
      "metadata": {
        "id": "cboAr5pEWUf5"
      }
    },
    {
      "cell_type": "code",
      "source": [
        "# write your answer here\n"
      ],
      "metadata": {
        "id": "phs9gciMWWAW"
      },
      "execution_count": null,
      "outputs": []
    },
    {
      "cell_type": "markdown",
      "source": [
        "(22) Create a class called 'Shape' with a method calculate_area(). Implement two derived classes 'Circle' and 'Rectangle' that inherit from Shape and override the calculate_area() method. Demonstrate polymorphism by creating instances of both derived classes and calling the calculate_area() method."
      ],
      "metadata": {
        "id": "J8HHefNtePwd"
      }
    },
    {
      "cell_type": "code",
      "source": [
        "# write your answer here"
      ],
      "metadata": {
        "id": "btnMmUZDeRhS"
      },
      "execution_count": null,
      "outputs": []
    },
    {
      "cell_type": "markdown",
      "source": [
        "(23) Write a Python program that prompts the user to enter two numbers and perform a division operation. Handle exceptions for both zero division and invalid input (non-numeric input). Display appropriate error messages for each type of exception and ensure the program does not crash due to these errors."
      ],
      "metadata": {
        "id": "z0oqEAlTeMUS"
      }
    },
    {
      "cell_type": "code",
      "source": [
        "while True:\n",
        "    try:\n",
        "        #  user to enters two numbers\n",
        "        n1 = float(input(\"Enter the first number: \"))\n",
        "        n2 = float(input(\"Enter the second number: \"))\n",
        "\n",
        "        # Performing the division operation\n",
        "        result = n1 / n2\n",
        "\n",
        "    except ValueError:\n",
        "        # gives the exception if user enters  non-numeric input\n",
        "        print(\"Error: Please enter numeric values only.\")\n",
        "\n",
        "    except ZeroDivisionError:\n",
        "        #  gives the exception if user enters zero division\n",
        "        print(\"Error: Division by zero is not allowed.\")\n",
        "\n",
        "    else:\n",
        "\n",
        "        print(\"Result:\", result)\n",
        "        break\n"
      ],
      "metadata": {
        "id": "yjdc1zM1eMAs",
        "colab": {
          "base_uri": "https://localhost:8080/"
        },
        "outputId": "4672fa21-9d19-48fb-80bb-8dca2cf928b9"
      },
      "execution_count": 21,
      "outputs": [
        {
          "output_type": "stream",
          "name": "stdout",
          "text": [
            "Enter the first number: d\n",
            "Error: Please enter numeric values only.\n",
            "Enter the first number: 1 \n",
            "Enter the second number: 2\n",
            "Result: 0.5\n"
          ]
        }
      ]
    },
    {
      "cell_type": "markdown",
      "source": [
        "# Mandatory Question"
      ],
      "metadata": {
        "id": "sZOhks1dXWEe"
      }
    },
    {
      "cell_type": "markdown",
      "source": [
        "**Important:**\n",
        "Reflecting on the first three lectures and the exercises you've completed, please provide feedback on your learning experience. Share your thoughts on whether the material covered was clear, the exercises were helpful, and if you feel more confident in applying Python programming concepts. Additionally, mention any specific areas where you would like more clarification or topics you would like to explore further in future lectures. Your feedback is valuable in shaping the course for an effective learning journey."
      ],
      "metadata": {
        "id": "eqmHVEwaWhbV"
      }
    },
    {
      "cell_type": "markdown",
      "source": [
        "Write your response here."
      ],
      "metadata": {
        "id": "HlpXOT9wXQAd"
      }
    },
    {
      "cell_type": "code",
      "source": [
        "#materials provided are clear and understanding and are helpful for programming as they covered most of the topics"
      ],
      "metadata": {
        "id": "Dq2aOZU7XIke"
      },
      "execution_count": 23,
      "outputs": []
    },
    {
      "cell_type": "code",
      "source": [],
      "metadata": {
        "id": "SVykvx92sHDv"
      },
      "execution_count": null,
      "outputs": []
    }
  ],
  "metadata": {
    "colab": {
      "provenance": []
    },
    "kernelspec": {
      "display_name": "Python 3 (ipykernel)",
      "language": "python",
      "name": "python3"
    },
    "language_info": {
      "codemirror_mode": {
        "name": "ipython",
        "version": 3
      },
      "file_extension": ".py",
      "mimetype": "text/x-python",
      "name": "python",
      "nbconvert_exporter": "python",
      "pygments_lexer": "ipython3",
      "version": "3.9.12"
    }
  },
  "nbformat": 4,
  "nbformat_minor": 0
}